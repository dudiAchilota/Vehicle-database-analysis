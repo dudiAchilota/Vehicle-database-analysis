{
 "cells": [
  {
   "cell_type": "markdown",
   "metadata": {},
   "source": [
    "##### בס\"ד"
   ]
  },
  {
   "cell_type": "markdown",
   "metadata": {},
   "source": [
    "# Data analysis of a database of vehicle license numbers"
   ]
  },
  {
   "cell_type": "markdown",
   "metadata": {},
   "source": [
    "# load data"
   ]
  },
  {
   "cell_type": "code",
   "execution_count": 1,
   "metadata": {},
   "outputs": [],
   "source": [
    "import pandas as pd\n",
    "import csv\n",
    "\n",
    "list = []\n",
    "with open('cars.csv', 'r', encoding='ANSI') as file:\n",
    "    reader = csv.reader(file)\n",
    "    for row in reader:\n",
    "        list.append(row[0].split(\"|\"))\n",
    "        \n",
    "        \n",
    "df = pd.DataFrame(list[1:],columns=list[0])"
   ]
  },
  {
   "cell_type": "markdown",
   "metadata": {},
   "source": [
    "# The arrangement of the data"
   ]
  },
  {
   "cell_type": "code",
   "execution_count": 2,
   "metadata": {},
   "outputs": [],
   "source": [
    "columns = df.columns\n",
    "for col in columns:\n",
    "    df[col] = pd.Series(df[col]).str.replace('\"', '')"
   ]
  },
  {
   "cell_type": "code",
   "execution_count": 3,
   "metadata": {},
   "outputs": [
    {
     "data": {
      "text/html": [
       "<div>\n",
       "<style scoped>\n",
       "    .dataframe tbody tr th:only-of-type {\n",
       "        vertical-align: middle;\n",
       "    }\n",
       "\n",
       "    .dataframe tbody tr th {\n",
       "        vertical-align: top;\n",
       "    }\n",
       "\n",
       "    .dataframe thead th {\n",
       "        text-align: right;\n",
       "    }\n",
       "</style>\n",
       "<table border=\"1\" class=\"dataframe\">\n",
       "  <thead>\n",
       "    <tr style=\"text-align: right;\">\n",
       "      <th></th>\n",
       "      <th>mispar_rechev</th>\n",
       "      <th>tozeret_cd</th>\n",
       "      <th>sug_degem</th>\n",
       "      <th>tozeret_nm</th>\n",
       "      <th>degem_cd</th>\n",
       "      <th>degem_nm</th>\n",
       "      <th>ramat_gimur</th>\n",
       "      <th>ramat_eivzur_betihuty</th>\n",
       "      <th>kvutzat_zihum</th>\n",
       "      <th>shnat_yitzur</th>\n",
       "      <th>...</th>\n",
       "      <th>baalut</th>\n",
       "      <th>misgeret</th>\n",
       "      <th>tzeva_cd</th>\n",
       "      <th>tzeva_rechev</th>\n",
       "      <th>zmig_kidmi</th>\n",
       "      <th>zmig_ahori</th>\n",
       "      <th>sug_delek_nm</th>\n",
       "      <th>horaat_rishum</th>\n",
       "      <th>moed_aliya_lakvish</th>\n",
       "      <th>kinuy_mishari</th>\n",
       "    </tr>\n",
       "  </thead>\n",
       "  <tbody>\n",
       "    <tr>\n",
       "      <th>0</th>\n",
       "      <td>01000039</td>\n",
       "      <td>0152</td>\n",
       "      <td>P</td>\n",
       "      <td>מרצדס בנץ הונג</td>\n",
       "      <td>0054</td>\n",
       "      <td>117.343</td>\n",
       "      <td>URBAN</td>\n",
       "      <td>1</td>\n",
       "      <td>13</td>\n",
       "      <td>2017</td>\n",
       "      <td>...</td>\n",
       "      <td>סוחר</td>\n",
       "      <td>WDD1173431N359671</td>\n",
       "      <td>80</td>\n",
       "      <td>שנהב לבן</td>\n",
       "      <td>225/40R18</td>\n",
       "      <td>225/40R18</td>\n",
       "      <td>בנזין</td>\n",
       "      <td>160323</td>\n",
       "      <td>2017-1</td>\n",
       "      <td>CLA 200</td>\n",
       "    </tr>\n",
       "  </tbody>\n",
       "</table>\n",
       "<p>1 rows × 23 columns</p>\n",
       "</div>"
      ],
      "text/plain": [
       "  mispar_rechev tozeret_cd sug_degem      tozeret_nm degem_cd degem_nm  \\\n",
       "0      01000039       0152         P  מרצדס בנץ הונג     0054  117.343   \n",
       "\n",
       "  ramat_gimur ramat_eivzur_betihuty kvutzat_zihum shnat_yitzur  ... baalut  \\\n",
       "0       URBAN                     1            13         2017  ...   סוחר   \n",
       "\n",
       "            misgeret tzeva_cd tzeva_rechev zmig_kidmi zmig_ahori sug_delek_nm  \\\n",
       "0  WDD1173431N359671       80     שנהב לבן  225/40R18  225/40R18        בנזין   \n",
       "\n",
       "  horaat_rishum moed_aliya_lakvish kinuy_mishari  \n",
       "0        160323             2017-1       CLA 200  \n",
       "\n",
       "[1 rows x 23 columns]"
      ]
     },
     "execution_count": 3,
     "metadata": {},
     "output_type": "execute_result"
    }
   ],
   "source": [
    "df.head(1)"
   ]
  },
  {
   "cell_type": "code",
   "execution_count": 4,
   "metadata": {},
   "outputs": [],
   "source": [
    "df = df.rename(columns={'tzeva_rechev': 'color'})"
   ]
  },
  {
   "cell_type": "markdown",
   "metadata": {},
   "source": [
    "# car color"
   ]
  },
  {
   "cell_type": "code",
   "execution_count": 5,
   "metadata": {},
   "outputs": [],
   "source": [
    "# קבלת תוצאות value_counts לעמודה 'color' ושמירה במשתנה\n",
    "value_counts = df['color'].value_counts()\n",
    "\n",
    "# חישוב אחוזים על פי הכמות הכוללת\n",
    "percentages = value_counts / value_counts.sum() * 100\n",
    "percentages = round(percentages, 2)"
   ]
  },
  {
   "cell_type": "code",
   "execution_count": 6,
   "metadata": {},
   "outputs": [],
   "source": [
    "# הוספת עמודה נוספת של אחוזים לתוצאות\n",
    "car_color = pd.concat([value_counts, percentages], axis=1)\n",
    "car_color.columns = ['count', 'percentage']"
   ]
  },
  {
   "cell_type": "code",
   "execution_count": 7,
   "metadata": {},
   "outputs": [
    {
     "name": "stderr",
     "output_type": "stream",
     "text": [
      "C:\\Users\\dudi9\\Anaconda3\\lib\\site-packages\\ipykernel_launcher.py:14: FutureWarning: Indexing with multiple keys (implicitly converted to a tuple of keys) will be deprecated, use a list instead.\n",
      "  \n"
     ]
    }
   ],
   "source": [
    "# לאחד שמות דומים\n",
    "list_color = [\"כסף\",'אפור','שחור','ירוק','אדום',\"כחול\",\"זהב\",\"סגול\",\"לבן\"\n",
    "              ,\"חום\",\"ירקרק\",\"כסוף\",\"צהוב\",\"טורקיז\",\"תכלת\",\"בורדו\",\"בז\"]\n",
    "for col in car_color.index:\n",
    "    car_color = car_color.rename(index=lambda idx: col if col in idx else idx)\n",
    "    \n",
    "car_color = car_color.rename(index={'ירקרק': 'ירוק'})                      \n",
    "car_color = car_color.rename(index=lambda idx: 'אדום' if 'אדמדם' in idx else idx)\n",
    "car_color = car_color.rename(index=lambda idx: 'זהב' if 'זהוב' in idx else idx)\n",
    "car_color = car_color.rename(index=lambda idx: 'כסף' if 'כסוף' in idx else idx)\n",
    "car_color = car_color.rename(index=lambda idx: 'לבן' if 'שנהב' in idx else idx)\n",
    "\n",
    "car_color = car_color.reset_index(drop=False)\n",
    "car_color = car_color.groupby('index')[\"count\",\"percentage\"].sum()"
   ]
  },
  {
   "cell_type": "code",
   "execution_count": 8,
   "metadata": {},
   "outputs": [
    {
     "name": "stderr",
     "output_type": "stream",
     "text": [
      "C:\\Users\\dudi9\\Anaconda3\\lib\\site-packages\\ipykernel_launcher.py:6: FutureWarning: Indexing with multiple keys (implicitly converted to a tuple of keys) will be deprecated, use a list instead.\n",
      "  \n"
     ]
    },
    {
     "data": {
      "text/html": [
       "<div>\n",
       "<style scoped>\n",
       "    .dataframe tbody tr th:only-of-type {\n",
       "        vertical-align: middle;\n",
       "    }\n",
       "\n",
       "    .dataframe tbody tr th {\n",
       "        vertical-align: top;\n",
       "    }\n",
       "\n",
       "    .dataframe thead th {\n",
       "        text-align: right;\n",
       "    }\n",
       "</style>\n",
       "<table border=\"1\" class=\"dataframe\">\n",
       "  <thead>\n",
       "    <tr style=\"text-align: right;\">\n",
       "      <th></th>\n",
       "      <th>count</th>\n",
       "      <th>percentage</th>\n",
       "    </tr>\n",
       "    <tr>\n",
       "      <th>index</th>\n",
       "      <th></th>\n",
       "      <th></th>\n",
       "    </tr>\n",
       "  </thead>\n",
       "  <tbody>\n",
       "    <tr>\n",
       "      <th>לבן</th>\n",
       "      <td>1418951</td>\n",
       "      <td>37.72</td>\n",
       "    </tr>\n",
       "    <tr>\n",
       "      <th>כסף</th>\n",
       "      <td>740826</td>\n",
       "      <td>19.69</td>\n",
       "    </tr>\n",
       "    <tr>\n",
       "      <th>אפור</th>\n",
       "      <td>564926</td>\n",
       "      <td>15.00</td>\n",
       "    </tr>\n",
       "    <tr>\n",
       "      <th>שחור</th>\n",
       "      <td>446232</td>\n",
       "      <td>11.86</td>\n",
       "    </tr>\n",
       "    <tr>\n",
       "      <th>אחר</th>\n",
       "      <td>208505</td>\n",
       "      <td>5.48</td>\n",
       "    </tr>\n",
       "    <tr>\n",
       "      <th>כחול</th>\n",
       "      <td>158359</td>\n",
       "      <td>4.21</td>\n",
       "    </tr>\n",
       "    <tr>\n",
       "      <th>בז</th>\n",
       "      <td>81822</td>\n",
       "      <td>2.17</td>\n",
       "    </tr>\n",
       "    <tr>\n",
       "      <th>אדום</th>\n",
       "      <td>74822</td>\n",
       "      <td>1.99</td>\n",
       "    </tr>\n",
       "    <tr>\n",
       "      <th>תכלת</th>\n",
       "      <td>67817</td>\n",
       "      <td>1.81</td>\n",
       "    </tr>\n",
       "  </tbody>\n",
       "</table>\n",
       "</div>"
      ],
      "text/plain": [
       "         count  percentage\n",
       "index                     \n",
       "לבן    1418951       37.72\n",
       "כסף     740826       19.69\n",
       "אפור    564926       15.00\n",
       "שחור    446232       11.86\n",
       "אחר     208505        5.48\n",
       "כחול    158359        4.21\n",
       "בז       81822        2.17\n",
       "אדום     74822        1.99\n",
       "תכלת     67817        1.81"
      ]
     },
     "execution_count": 8,
     "metadata": {},
     "output_type": "execute_result"
    }
   ],
   "source": [
    "for index, row in car_color.iterrows():\n",
    "    # כאן ניתן לבצע פעולות על השורה הנוכחית\n",
    "    if row['percentage'] < 1.0:\n",
    "        car_color = car_color.rename(index = {index :'אחר'})  \n",
    "        \n",
    "car_color = car_color.groupby('index')[\"count\",\"percentage\"].sum()        \n",
    "car_color = car_color.sort_values(by=\"count\", ascending=False)\n",
    "car_color"
   ]
  },
  {
   "cell_type": "code",
   "execution_count": 9,
   "metadata": {},
   "outputs": [],
   "source": [
    "car_color_name = []\n",
    "\n",
    "for name in car_color.index:\n",
    "    car_color_name.append(name[::-1])"
   ]
  },
  {
   "cell_type": "code",
   "execution_count": 10,
   "metadata": {},
   "outputs": [
    {
     "data": {
      "image/png": "[encoded data removed]",
      "text/plain": [
       "<Figure size 864x432 with 1 Axes>"
      ]
     },
     "metadata": {},
     "output_type": "display_data"
    }
   ],
   "source": [
    "import matplotlib.pyplot as plt\n",
    "%matplotlib inline\n",
    "plt.style.use('ggplot')\n",
    "\n",
    "colors = ['white', 'silver', 'gray', 'black','brown','blue','beige','red',\"azure\",'purple',\n",
    "          'brown', 'lightgreen']\n",
    "\n",
    "fig, ax = plt.subplots(figsize=(12, 6))\n",
    "patches, texts, autotexts = ax.pie(car_color[\"count\"], labels=car_color_name, autopct='%1.1f%%',\n",
    "                            colors=colors, wedgeprops={'edgecolor': 'black', 'linewidth': 1.5})\n",
    "\n",
    "for autotext in autotexts:\n",
    "    autotext.set_color('gold')\n",
    "    autotext.set_size(12)\n",
    "    autotext.set_weight('bold')\n",
    "    autotext.set_horizontalalignment('center')\n",
    "    autotext.set_verticalalignment('top')\n",
    "    \n",
    "plt.setp(autotexts, size=13)#, weight=\"bold\"\n",
    "ax.axis('equal')\n",
    "ax.set_title(\"Car Colors\")\n",
    "\n",
    "plt.show()"
   ]
  }
 ],
 "metadata": {
  "kernelspec": {
   "display_name": "Python 3",
   "language": "python",
   "name": "python3"
  },
  "language_info": {
   "codemirror_mode": {
    "name": "ipython",
    "version": 3
   },
   "file_extension": ".py",
   "mimetype": "text/x-python",
   "name": "python",
   "nbconvert_exporter": "python",
   "pygments_lexer": "ipython3",
   "version": "3.7.4"
  },
  "widgets": {
   "application/vnd.jupyter.widget-state+json": {
    "state": {},
    "version_major": 2,
    "version_minor": 0
   }
  }
 },
 "nbformat": 4,
 "nbformat_minor": 2
}
